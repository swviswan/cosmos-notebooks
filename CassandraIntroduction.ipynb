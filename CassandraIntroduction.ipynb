{
  "cells": [
    {
      "cell_type": "code",
      "source": [
        "test added"
      ],
      "outputs": [],
      "execution_count": null,
      "metadata": {
        "collapsed": true,
        "outputExpanded": false,
        "jupyter": {
          "source_hidden": false,
          "outputs_hidden": false
        },
        "nteract": {
          "transient": {
            "deleting": false
          }
        }
      }
    },
    {
      "cell_type": "markdown",
      "source": [
        "# Getting started with Azure Cosmos DB Cassandra API\n",
        "\n",
        "\n",
        "Azure Cosmos DB offers a fully managed interoperability layer for Cassandra called the **Cassandra API**. Cassandra API is compatible with Cassandra at a wire protocol level. The following is an introduction to Cassandra API queries on the Azure Cosmos DB API for Cassandra.\n",
        "\n",
        "Learn more about the [Azure Cosmos DB Cassandra API](https://docs.microsoft.com/azure/cosmos-db/cassandra-introduction).\n",
        "\n",
        "**Note: Make sure to run these cells in order since they contain dependencies across each other.**"
      ],
      "metadata": {}
    },
    {
      "cell_type": "code",
      "source": [
        "import sys\n",
        "!{sys.executable} -m pip install cassandra-driver==3.20.2 --user\n",
        "!{sys.executable} -m pip install prettytable --user\n",
        "!{sys.executable} -m pip install requests --user\n",
        "!{sys.executable} -m pip install pyopenssl --user"
      ],
      "outputs": [],
      "execution_count": null,
      "metadata": {
        "collapsed": false,
        "inputHidden": false,
        "outputHidden": false,
        "trusted": true
      }
    },
    {
      "cell_type": "markdown",
      "source": [
        "**Note: running the above cell installs the dependencies required for the below cells to run.**"
      ],
      "metadata": {}
    },
    {
      "cell_type": "code",
      "source": [],
      "outputs": [],
      "execution_count": null,
      "metadata": {
        "collapsed": true,
        "outputExpanded": false,
        "jupyter": {
          "source_hidden": false,
          "outputs_hidden": false
        },
        "nteract": {
          "transient": {
            "deleting": false
          }
        }
      }
    },
    {
      "cell_type": "markdown",
      "source": [
        "## Session creation\n",
        "To create a Cassandra session, you need to use the connection details from your **Cosmos DB Account**:\n",
        "- Replace 'contact point' below with contact point value from Settings/Connection String in Azure Portal\n",
        "- Replace 'username' below with this value from Settings/Connection String in Azure Portal\n",
        "- Replace 'password' below with read/write \"Primary Password\" value from Settings/Connection String in Azure Portal"
      ],
      "metadata": {}
    },
    {
      "cell_type": "code",
      "source": [
        "from cassandra.auth import PlainTextAuthProvider\n",
        "import time\n",
        "import ssl\n",
        "import cassandra\n",
        "from cassandra.cluster import Cluster\n",
        "from cassandra.policies import *\n",
        "from ssl import PROTOCOL_TLSv1_2, SSLContext, CERT_NONE\n",
        "ssl_context = SSLContext(PROTOCOL_TLSv1_2)\n",
        "ssl_context.verify_mode = CERT_NONE\n",
        "auth_provider = PlainTextAuthProvider(username='username',password='password')\n",
        "cluster = Cluster(['contact point'], port = 10350, auth_provider=auth_provider,ssl_context=ssl_context)\n",
        "session = cluster.connect()\n",
        "print(\"session created!\")"
      ],
      "outputs": [],
      "execution_count": null,
      "metadata": {
        "collapsed": false,
        "inputHidden": false,
        "outputHidden": false,
        "trusted": true
      }
    },
    {
      "cell_type": "markdown",
      "source": [
        "## Creating a Keyspace and Tables\n",
        "\n",
        "Here we create a Keyspace called \"notebook\" and a table called \"user\".\n",
        "\n",
        "When this has run, you can refresh the Cassandra API Data view, and you should see the new keyspace and table."
      ],
      "metadata": {}
    },
    {
      "cell_type": "code",
      "source": [
        "session.execute('CREATE KEYSPACE notebook WITH replication = {\\'class\\': \\'NetworkTopologyStrategy\\', \\'datacenter\\' : \\'1\\' }'); \n",
        "session.execute('CREATE TABLE notebook.user (user_id int PRIMARY KEY, user_name text, user_bcity text)');\n",
        "print(\"notebook keyspace and user table created!\")"
      ],
      "outputs": [],
      "execution_count": null,
      "metadata": {
        "collapsed": false,
        "inputHidden": false,
        "outputHidden": false,
        "trusted": true
      }
    },
    {
      "cell_type": "markdown",
      "source": [
        "## Insert data\n",
        "\n",
        "Next we will insert data into the user table."
      ],
      "metadata": {}
    },
    {
      "cell_type": "code",
      "source": [
        "insert_data = session.prepare(\"INSERT INTO notebook.user (user_id, user_name , user_bcity) VALUES (?,?,?)\")\n",
        "session.execute(insert_data, [1,'Lybkov','Seattle'])\n",
        "session.execute(insert_data, [2,'Doniv','Dubai'])\n",
        "session.execute(insert_data, [3,'Keviv','Chennai'])\n",
        "session.execute(insert_data, [4,'Ehtevs','Pune'])\n",
        "session.execute(insert_data, [5,'Dnivog','Belgaum'])\n",
        "session.execute(insert_data, [6,'Ateegk','Narewadi'])\n",
        "session.execute(insert_data, [7,'KannabbuS','Yamkanmardi'])\n",
        "print(\"data inserted!\")"
      ],
      "outputs": [],
      "execution_count": null,
      "metadata": {
        "collapsed": false,
        "inputHidden": false,
        "outputHidden": false,
        "trusted": true
      }
    },
    {
      "cell_type": "markdown",
      "source": [
        "## Query data\n",
        "\n",
        "Next, we will query the data and iterate over the results, displaying them as a dataframe."
      ],
      "metadata": {}
    },
    {
      "cell_type": "code",
      "source": [
        "import pandas as pd\n",
        "\n",
        "rows = session.execute('SELECT * FROM notebook.user')\n",
        "df = pd.DataFrame(rows, columns = ['user_id' , 'user_name', 'user_bcity'])\n",
        "display(df)"
      ],
      "outputs": [],
      "execution_count": null,
      "metadata": {
        "collapsed": false,
        "inputHidden": false,
        "outputHidden": false,
        "trusted": true
      }
    },
    {
      "cell_type": "markdown",
      "source": [
        "## Filtering\n",
        "\n",
        "We can filter on a specific field using ALLOW FILTERING."
      ],
      "metadata": {}
    },
    {
      "cell_type": "code",
      "source": [
        "rows = session.execute('SELECT * FROM notebook.user where user_bcity=\\'Belgaum\\' ALLOW FILTERING')\n",
        "df = pd.DataFrame(rows, columns = ['user_id' , 'user_name', 'user_bcity'])\n",
        "display(df)"
      ],
      "outputs": [],
      "execution_count": null,
      "metadata": {
        "collapsed": false,
        "inputHidden": false,
        "outputHidden": false,
        "trusted": true
      }
    },
    {
      "cell_type": "markdown",
      "source": [
        "## Next Steps\n",
        "\n",
        "Learn more about Cassandra API:\n",
        "- [Apache Cassandra features supported by Azure Cosmos DB Cassandra API](https://docs.microsoft.com/azure/cosmos-db/cassandra-support)\n",
        "- [Connect to Azure Cosmos DB Cassandra API from Spark](https://docs.microsoft.com/azure/cosmos-db/cassandra-spark-generic)\n",
        "- [Cassandra API Python quick start](https://docs.microsoft.com/azure/cosmos-db/create-cassandra-python)"
      ],
      "metadata": {}
    }
  ],
  "metadata": {
    "language_info": {
      "file_extension": ".py",
      "mimetype": "text/x-python",
      "name": "python",
      "version": "3.6.9"
    },
    "nteract": {
      "version": "dataExplorer 1.0"
    }
  },
  "nbformat": 4,
  "nbformat_minor": 2
}