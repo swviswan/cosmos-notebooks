{
  "cells": [
    {
      "cell_type": "markdown",
      "source": [
        "# Getting started with Cosmos notebooks\n",
        "In this notebook, we'll learn how to use Cosmos notebook features. We'll create a database and container, import some sample data in a container in Azure Cosmos DB and run some queries over it."
      ],
      "metadata": {}
    },
    {
      "cell_type": "markdown",
      "source": [
        "### Create new database and container\n",
        "\n",
        "To connect to the service, you can use our built-in instance of ```cosmos_client```. This is a ready to use instance of [CosmosClient](https://docs.microsoft.com/python/api/azure-cosmos/azure.cosmos.cosmos_client.cosmosclient?view=azure-python) from our Python SDK. It already has the context of this account baked in. We'll use ```cosmos_client``` to create a new database called **RetailDemo** and container called **WebsiteData**.\n",
        "\n",
        "Our dataset will contain events that occurred on the website - e.g. a user viewing an item, adding it to their cart, or purchasing it. We will partition by CartId, which represents the individual cart of each user. This will give us an even distribution of throughput and storage in our container. Learn more about how to [choose a good partition key.](https://docs.microsoft.com/azure/cosmos-db/partition-data)"
      ],
      "metadata": {}
    },
    {
      "cell_type": "code",
      "source": [
        "import azure.cosmos\n",
        "from azure.cosmos.partition_key import PartitionKey\n",
        "\n",
        "database = cosmos_client.create_database_if_not_exists('RetailDemo')\n",
        "print('Database RetailDemo created')\n",
        "\n",
        "container = database.create_container_if_not_exists(id='WebsiteData', partition_key=PartitionKey(path='/CartID'))\n",
        "print('Container WebsiteData created')\n"
      ],
      "outputs": [
        {
          "output_type": "stream",
          "name": "stdout",
          "text": [
            "Database RetailDemo created\n",
            "Container WebsiteData created\n"
          ]
        }
      ],
      "execution_count": 2,
      "metadata": {
        "trusted": true,
        "execution": {
          "iopub.status.busy": "2020-05-17T22:10:48.468Z",
          "iopub.execute_input": "2020-05-17T22:10:48.479Z",
          "iopub.status.idle": "2020-05-17T22:10:48.497Z",
          "shell.execute_reply": "2020-05-17T22:10:48.505Z"
        }
      }
    },
    {
      "cell_type": "markdown",
      "source": [
        "#### Set the default database and container context to the new resources\n",
        "\n",
        "We can use the ```%database {database_id}``` and ```%container {container_id}``` syntax."
      ],
      "metadata": {}
    },
    {
      "cell_type": "code",
      "source": [
        "%database RetailDemo"
      ],
      "outputs": [],
      "execution_count": 3,
      "metadata": {
        "trusted": true,
        "execution": {
          "iopub.status.busy": "2020-05-17T22:10:48.267Z",
          "iopub.status.idle": "2020-05-17T22:10:48.286Z",
          "shell.execute_reply": "2020-05-17T22:10:48.293Z"
        }
      }
    },
    {
      "cell_type": "code",
      "source": [
        "%container WebsiteData"
      ],
      "outputs": [],
      "execution_count": 4,
      "metadata": {
        "trusted": true,
        "execution": {
          "iopub.status.busy": "2020-05-17T22:10:48.308Z",
          "iopub.status.idle": "2020-05-17T22:10:48.320Z",
          "shell.execute_reply": "2020-05-17T22:10:48.324Z"
        }
      }
    },
    {
      "cell_type": "markdown",
      "source": [
        "### Load in sample JSON data and insert into the container. \n",
        "We'll use the **%%upload** magic function to insert items into the container"
      ],
      "metadata": {}
    },
    {
      "cell_type": "code",
      "source": [
        "%%upload --databaseName RetailDemo --containerName WebsiteData --url https://cosmosnotebooksdata.blob.core.windows.net/notebookdata/websiteData-small.json"
      ],
      "outputs": [
        {
          "output_type": "display_data",
          "data": {
            "text/html": [
              "\r\n",
              "<script>\r\n",
              "    var startDate = new Date();\r\n",
              "    function pad ( val ) { val = val + ''; return val.length > 1 ? val : '0' + val; }\r\n",
              "    cosmos_timer_interval = setInterval( function(){\r\n",
              "        var endDate = new Date();\r\n",
              "        var diffDate = Math.floor((endDate-startDate)/1000);\r\n",
              "        hours = Math.floor(diffDate / 3600);\r\n",
              "        diffDate %= 3600;\r\n",
              "        minutes = Math.floor(diffDate / 60);\r\n",
              "        seconds = diffDate % 60;\r\n",
              "        var hoursDisplay = document.getElementById('cosmos_timer_hours_display');\r\n",
              "        if (hoursDisplay) {\r\n",
              "            hoursDisplay.innerHTML=pad(hours);\r\n",
              "        }\r\n",
              "        var minutesDisplay = document.getElementById('cosmos_timer_minutes_display');\r\n",
              "        if (minutesDisplay) {\r\n",
              "            minutesDisplay.innerHTML=pad(minutes);\r\n",
              "        }\r\n",
              "        var secondsDisplay = document.getElementById('cosmos_timer_seconds_display');\r\n",
              "        if (secondsDisplay) {\r\n",
              "            secondsDisplay.innerHTML=pad(seconds);\r\n",
              "        }\r\n",
              "    }, 1000);\r\n",
              "    \r\n",
              "    function cosmos_stop_timer_interval() {\r\n",
              "        clearInterval(cosmos_timer_interval);\r\n",
              "    }\r\n",
              "</script>\r\n",
              "<span> Execution time  </span><span id='cosmos_timer_hours_display'>00</span>:<span id='cosmos_timer_minutes_display'>00</span>:<span id='cosmos_timer_seconds_display'>00</span></span><span> hours</span>\r\n",
              "\r\n",
              "<script>\r\n",
              "function cosmos_update_progress_bar_345e07a0_8102_4305_bf58_b2aa5eb32973(width) {\r\n",
              "    var progress = document.getElementById('cosmos_event_progress_bar_345e07a0_8102_4305_bf58_b2aa5eb32973');\r\n",
              "    progress.value = width;\r\n",
              "}\r\n",
              "</script>\r\n",
              "<div>\r\n",
              "<style type='text/css' scoped>\r\n",
              "    progress {\r\n",
              "      position: relative;\r\n",
              "      height: 5px;\r\n",
              "      display: block;\r\n",
              "      width: 100%;\r\n",
              "      background-color: #FFFFFF;\r\n",
              "      border-radius: 1px;\r\n",
              "      background-clip: padding-box;\r\n",
              "      margin: 0.5rem 0 1rem 0;\r\n",
              "      overflow: hidden;\r\n",
              "    }\r\n",
              "\r\n",
              "    progress {\r\n",
              "        border-color: #dbe1dd;\r\n",
              "        color: #0078D4;\r\n",
              "    }\r\n",
              "\r\n",
              "    progress::-webkit-progress-value {\r\n",
              "        background: #0078D4;\r\n",
              "    }\r\n",
              "\r\n",
              "    progress::-webkit-progress-bar {\r\n",
              "        background: #eee;\r\n",
              "    }\r\n",
              "\r\n",
              "    progress::-moz-progress-bar {\r\n",
              "        background: #0078D4; \r\n",
              "    }\r\n",
              "</style>\r\n",
              "<progress id='cosmos_event_progress_bar_345e07a0_8102_4305_bf58_b2aa5eb32973' max='100' value='1'></progress>\r\n",
              "</br>\r\n",
              "</div>\r\n"
            ]
          },
          "metadata": {}
        }
      ],
      "execution_count": null,
      "metadata": {
        "collapsed": false,
        "inputHidden": false,
        "outputHidden": false,
        "trusted": true,
        "execution": {
          "iopub.status.busy": "2020-05-17T22:10:48.332Z",
          "iopub.status.idle": "2020-05-14T05:00:27.062Z",
          "shell.execute_reply": "2020-05-14T05:00:27.067Z"
        }
      }
    },
    {
      "cell_type": "markdown",
      "source": [
        "The new database and container should show up under the **Data** section. Use the refresh icon after completing the previous cell. \n",
        "\n",
        "<img src=\"https://cosmosnotebooksdata.blob.core.windows.net/notebookdata/refreshData.png\" alt=\"Refresh Data resource tree to see newly created resources\" width=\"40%\"/>"
      ],
      "metadata": {}
    },
    {
      "cell_type": "markdown",
      "source": [
        "### Run a query using the built-in Azure Cosmos notebook magic\n"
      ],
      "metadata": {}
    },
    {
      "cell_type": "code",
      "source": [
        "%%sql\n",
        "SELECT c.Action, c.Price as ItemRevenue, c.Country, c.Item FROM c"
      ],
      "outputs": [],
      "execution_count": null,
      "metadata": {
        "trusted": true,
        "execution": {
          "iopub.status.busy": "2020-05-14T05:00:27.631Z",
          "iopub.status.idle": "2020-05-14T05:00:28.474Z",
          "shell.execute_reply": "2020-05-14T05:00:28.483Z",
          "iopub.execute_input": "2020-05-14T05:00:27.932Z"
        }
      }
    },
    {
      "cell_type": "markdown",
      "source": [
        "We can get more information about the %%sql command using ```%%sql?```"
      ],
      "metadata": {}
    },
    {
      "cell_type": "markdown",
      "source": [
        "### Next steps\n",
        "\n",
        "Now that you've learned how to use basic notebook functionality, follow the **Visualization.ipynb** notebook to further analyze and visualize our data. You can find it under the **Sample Notebooks** section."
      ],
      "metadata": {}
    }
  ],
  "metadata": {
    "kernelspec": {
      "display_name": "Python 3",
      "language": "python",
      "name": "python3"
    },
    "language_info": {
      "name": "python",
      "version": "3.7",
      "mimetype": "application/json",
      "file_extension": "ipynb"
    },
    "nteract": {
      "version": "dataExplorer 1.0"
    }
  },
  "nbformat": 4,
  "nbformat_minor": 2
}